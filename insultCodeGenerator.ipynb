{
 "cells": [
  {
   "cell_type": "code",
   "execution_count": 1,
   "metadata": {},
   "outputs": [],
   "source": [
    "adj1list = [\"smelly\",\"ordorous\",\"whiney\",\"slimey\",\"hairy\"]\n",
    "adj2list = [\"bald\",\"oily\",\"boring\",\"lame\",\"purple\"]\n",
    "nounlist = [\"frog\",\"buffalo\",\"spider\",\"snake\",\"lemur\"]"
   ]
  },
  {
   "cell_type": "code",
   "execution_count": 2,
   "metadata": {},
   "outputs": [
    {
     "name": "stdout",
     "output_type": "stream",
     "text": [
      "0 :You are a  hairy lame lemur\n",
      "1 :You are a  ordorous lame snake\n",
      "2 :You are a  hairy bald buffalo\n",
      "3 :You are a  hairy bald buffalo\n",
      "4 :You are a  whiney boring lemur\n",
      "5 :You are a  smelly oily lemur\n",
      "6 :You are a  whiney bald buffalo\n",
      "7 :You are a  slimey lame frog\n",
      "8 :You are a  whiney bald spider\n",
      "9 :You are a  smelly bald buffalo\n"
     ]
    }
   ],
   "source": [
    "adj1list = [\"smelly\",\"ordorous\",\"whiney\",\"slimey\",\"hairy\"]\n",
    "adj2list = [\"bald\",\"oily\",\"boring\",\"lame\",\"purple\"]\n",
    "nounlist = [\"frog\",\"buffalo\",\"spider\",\"snake\",\"lemur\"]\n",
    "import random\n",
    "for i in range(10):\n",
    "    word1=random.choice(adj1list)\n",
    "    word2=random.choice(adj2list)\n",
    "    word3=random.choice(nounlist)\n",
    "    print(i, \":You are a \", word1, word2, word3)"
   ]
  },
  {
   "cell_type": "code",
   "execution_count": null,
   "metadata": {},
   "outputs": [],
   "source": [
    "adj1list = [\"smelly\",\"ordorous\",\"whiney\",\"slimey\",\"hairy\"]\n",
    "adj2list = [\"bald\",\"oily\",\"boring\",\"lame\",\"purple\"]\n",
    "nounlist = [\"frog\",\"buffalo\",\"spider\",\"snake\",\"lemur\"]\n",
    "import random\n",
    "for i in range(10):\n",
    "    word1=random.choice(adj1list)\n",
    "    word2=random.choice(adj2list)\n",
    "    word3=random.choice(nounlist)\n",
    "    print(i, \":You are a \", word1, word2, word3)"
   ]
  }
 ],
 "metadata": {
  "kernelspec": {
   "display_name": "Python 3",
   "language": "python",
   "name": "python3"
  },
  "language_info": {
   "codemirror_mode": {
    "name": "ipython",
    "version": 3
   },
   "file_extension": ".py",
   "mimetype": "text/x-python",
   "name": "python",
   "nbconvert_exporter": "python",
   "pygments_lexer": "ipython3",
   "version": "3.5.2"
  }
 },
 "nbformat": 4,
 "nbformat_minor": 2
}
